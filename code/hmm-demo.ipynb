{
 "cells": [
  {
   "cell_type": "markdown",
   "id": "4552b166",
   "metadata": {},
   "source": [
    "# Hidden Markov Model Demo\n",
    "Imagine you're in a haunted house, and you are woken in a bedroom by a noise above you in the attic. It is a ghost walking around! Our goal is to figure out where in the attic the ghost is. Perhaps so we could bust it.\n",
    "- The ghost moves around every second (we discretise time).\n",
    "- Floorboards will creak with a probability in the vicinity of where the ghost is.\n",
    "\n",
    "Together, this defines a Hidden Markov Model:\n",
    "- Ghost movement: $p(x_t|x_{t-1})$\n",
    "- Floorboard creaking: $p(y_t|x_t)$\n",
    "- Posterior of interest: $p(x_t|y_1,\\dots,y_t)$\n",
    "\n",
    "In our case, all these distributions are discrete. In the code we will represent $x_t$ and $y_t$ in two equivalent ways:\n",
    "- As a pair of (y,x) coordinates in a vector.\n",
    "- As a one-hot encoded location in a 2D grid."
   ]
  },
  {
   "cell_type": "code",
   "execution_count": 1,
   "id": "f7860a2a",
   "metadata": {},
   "outputs": [],
   "source": [
    "import numpy as np\n",
    "import matplotlib.pyplot as plt\n",
    "np.random.seed(4)"
   ]
  },
  {
   "cell_type": "code",
   "execution_count": 2,
   "id": "c7a13f9b",
   "metadata": {},
   "outputs": [],
   "source": [
    "# From Matplotlib documentation\n",
    "def hinton(matrix, max_weight=1.0, ax=None):\n",
    "    \"\"\"Draw Hinton diagram for visualizing a weight matrix.\"\"\"\n",
    "    ax = ax if ax is not None else plt.gca()\n",
    "\n",
    "    if not max_weight:\n",
    "        max_weight = 2 ** np.ceil(np.log2(np.abs(matrix).max()))\n",
    "\n",
    "    ax.patch.set_facecolor('gray')\n",
    "    ax.set_aspect('equal', 'box')\n",
    "    ax.xaxis.set_major_locator(plt.NullLocator())\n",
    "    ax.yaxis.set_major_locator(plt.NullLocator())\n",
    "\n",
    "    for (x, y), w in np.ndenumerate(matrix.T + 1e-13):\n",
    "        color = 'white' if w > 0 else 'black'\n",
    "        size = np.sqrt(abs(w) / max_weight)\n",
    "        rect = plt.Rectangle([x - size / 2, y - size / 2], size, size,\n",
    "                             facecolor=color, edgecolor=color)\n",
    "        ax.add_patch(rect)\n",
    "        \n",
    "    ax.set_xticks(np.arange(1, width) - 0.5)\n",
    "    ax.set_yticks(np.arange(1, height) - 0.5)\n",
    "    ax.set_xticklabels([])\n",
    "    ax.set_yticklabels([])\n",
    "    ax.grid()\n",
    "\n",
    "    ax.autoscale_view()\n",
    "    ax.invert_yaxis()"
   ]
  },
  {
   "cell_type": "markdown",
   "id": "e1a77833",
   "metadata": {},
   "source": [
    "Filtering\n",
    "\\begin{align}\n",
    "p(x_t | y_1, \\dots,y_{t-1}) &= \\sum_{x_{t-1}} p(x_{t}|x_{t-1}) p(x_{t-1}|y_{t-1}) \\\\\n",
    "p(x_t | y_1,\\dots,y_{t}) &= \\frac{p(y_t|x_t)p(x_t | y_{t-1})}{Z}\n",
    "\\end{align}"
   ]
  },
  {
   "cell_type": "code",
   "execution_count": 3,
   "id": "dd7cb282",
   "metadata": {},
   "outputs": [],
   "source": [
    "width = 12\n",
    "height = 10\n",
    "movement = True  # Does the person in the attic move?\n",
    "obs_noise = 1  # How many cells can the creaking floorboord deviate from the location of the person?\n",
    "obs_prob = 0.6  # What is the probability of a floorboard creaking?"
   ]
  },
  {
   "cell_type": "code",
   "execution_count": 4,
   "id": "51b7892f",
   "metadata": {},
   "outputs": [],
   "source": [
    "def sample_transition(x):\n",
    "    # x: 2-vector as [y, x] location\n",
    "    # Samples from p(x_t|x_{t-1})\n",
    "    if movement:\n",
    "        delta = np.array([np.random.randint(-1, 2), np.random.randint(-1, 2)])\n",
    "        if np.abs(delta).sum() == 2:\n",
    "            delta = np.array([0, 0])  # So 5/9 probability of staying in the same spot\n",
    "        x = (x + delta) % np.array([height, width])\n",
    "    return x\n",
    "\n",
    "def sample_observation(x):\n",
    "    # x: 2-vector as [y, x] location\n",
    "    # Samples from p(y_t|x_t)\n",
    "    if np.random.rand() < obs_prob:\n",
    "        delta = np.array([np.random.randint(-obs_noise, obs_noise+1), np.random.randint(-obs_noise, obs_noise+1)])\n",
    "        x = (x + delta) % np.array([height, width])\n",
    "        return x\n",
    "    else:\n",
    "        return None"
   ]
  },
  {
   "cell_type": "code",
   "execution_count": 5,
   "id": "083c0a92",
   "metadata": {},
   "outputs": [],
   "source": [
    "xall = []  # Store list of [y, x] locations of states\n",
    "yall = []  # Store list of observations. [y, x] if observation, None if nothing was heard\n",
    "# x = np.array([np.random.randint(0, height), np.random.randint(0, width)])  # Start in a random location\n",
    "x = np.array([height // 2, width // 2])  # Start in the middle\n",
    "for t in range(10000):  # Simulate forward 10000 steps\n",
    "    x = sample_transition(x)\n",
    "    xall.append(x)\n",
    "    yall.append(sample_observation(x))\n",
    "xall = np.vstack(xall)"
   ]
  },
  {
   "cell_type": "code",
   "execution_count": 6,
   "id": "2e74da35",
   "metadata": {},
   "outputs": [],
   "source": [
    "def visual(x, y=None):\n",
    "    # Produce a 2D array visualisation of the state `x` and observation `y`\n",
    "    # x: [y, x] location of the person\n",
    "    # y: [y, x] location of the creaking floorboard\n",
    "    img = np.zeros((height, width))\n",
    "    img[x[0], x[1]] = 1\n",
    "    if y is not None:\n",
    "        img[y[0], y[1]] = 0.5\n",
    "    return img\n",
    "\n",
    "def plot_state(img):\n",
    "    # Plot the 2D array visualisation\n",
    "    fig, ax = plt.subplots()\n",
    "    ims = ax.imshow(img, vmin=0, cmap='Greys_r')\n",
    "    ax.set_xticks(np.arange(1, width) - 0.5)\n",
    "    ax.set_yticks(np.arange(1, height) - 0.5)\n",
    "    ax.set_xticklabels([])\n",
    "    ax.set_yticklabels([])\n",
    "    ax.grid()\n",
    "    \n",
    "def transition_prob(x):\n",
    "    # Calculate p(x_t|X_{t-1}=x) for the given value x, and for all values of x_t.\n",
    "    if movement:\n",
    "        img = visual(x)\n",
    "        for dx in [-1, 0, 1]:\n",
    "            for dy in [-1, 0, 1]:\n",
    "                if dx == 0 or dy == 0:\n",
    "                    img[(x[0] + dy) % height, (x[1] + dx) % width] = 1 / 9\n",
    "        img[x[0], x[1]] = 5/9\n",
    "        img = img / np.sum(img)  # Normalise probability\n",
    "    return img\n",
    "\n",
    "def observe_prob(x):\n",
    "    # Calculate p(y_t|X_t=x) for the given value x, and for all values of y_t.\n",
    "    img = visual(x)\n",
    "    for dx in np.arange(-obs_noise, obs_noise+1):\n",
    "        for dy in np.arange(-obs_noise, obs_noise+1):\n",
    "            img[(x[0] + dy) % height, (x[1] + dx) % width] = 1\n",
    "    img = img / np.sum(img)  # Normalise probability\n",
    "    return img\n",
    "\n",
    "def likelihood(y):\n",
    "    # Calculate p(Y_t=y|x_t) for the given value y, and for all values of x_t.\n",
    "    if y is not None:\n",
    "        return observe_prob(y)\n",
    "    else:\n",
    "        return 1.0\n",
    "\n",
    "def forward(p_xt):\n",
    "    px_tp1 = np.zeros((height, width))\n",
    "    for (y, x), w in np.ndenumerate(p_xt):\n",
    "        px_tp1 = px_tp1 + transition_prob([y, x]) * w\n",
    "    return px_tp1"
   ]
  },
  {
   "cell_type": "markdown",
   "id": "593cd774",
   "metadata": {},
   "source": [
    "## Visualising the Model\n",
    "Let's first start by visualising where the person is standing."
   ]
  },
  {
   "cell_type": "code",
   "execution_count": 7,
   "id": "2f07f7e8",
   "metadata": {},
   "outputs": [
    {
     "data": {
      "image/png": "[encoded data removed]",
      "text/plain": [
       "<Figure size 640x480 with 1 Axes>"
      ]
     },
     "metadata": {},
     "output_type": "display_data"
    }
   ],
   "source": [
    "plot_state(visual(xall[0]))\n",
    "plt.title(\"Location of the ghost at $t=1$\");"
   ]
  },
  {
   "cell_type": "markdown",
   "id": "40e8079c",
   "metadata": {},
   "source": [
    "### Transition Probability\n",
    "Let's visualise the transition probability $p(x_t|x_{t-1})$ as a function of $x_t$, for a fixed value of $x_{t-1}$. We do this with a hinton diagram. These diagrams are often used to visualise the weights of neural networks. They use the area of a square to represent the strength of a signal, which in our case is the probability. This diagram helps since area is morea easily distinguishable than shade, particularly when probabilities are close to zero."
   ]
  },
  {
   "cell_type": "code",
   "execution_count": 8,
   "id": "a665e50f",
   "metadata": {},
   "outputs": [
    {
     "data": {
      "image/png": "[encoded data removed]",
      "text/plain": [
       "<Figure size 640x480 with 1 Axes>"
      ]
     },
     "metadata": {},
     "output_type": "display_data"
    }
   ],
   "source": [
    "hinton(transition_prob([height // 2, width // 2]))\n",
    "plt.title(\"Transition probability $p(x_t|x_{t-1})$, as a function of $x_t$\");"
   ]
  },
  {
   "cell_type": "markdown",
   "id": "32327a21",
   "metadata": {},
   "source": [
    "### Observation Probability\n",
    "Next, let's visualise the observation probability $p(y_t|x_t)$ as a function of $y_t$."
   ]
  },
  {
   "cell_type": "code",
   "execution_count": 9,
   "id": "7b892a93",
   "metadata": {},
   "outputs": [
    {
     "data": {
      "image/png": "[encoded data removed]",
      "text/plain": [
       "<Figure size 640x480 with 1 Axes>"
      ]
     },
     "metadata": {},
     "output_type": "display_data"
    }
   ],
   "source": [
    "hinton(observe_prob([height // 2, width // 2]))\n",
    "plt.title(\"Observation probability $p(y_t|x_t)$, as a function of $y_t$\");"
   ]
  },
  {
   "cell_type": "markdown",
   "id": "5d75a4fc",
   "metadata": {},
   "source": [
    "## Model, Prior, Likelihood"
   ]
  },
  {
   "cell_type": "markdown",
   "id": "055fddc9",
   "metadata": {},
   "source": [
    "Before hearing any creaks, we start with a _prior_ distribution on where the person is $p(x_1)$. Since we just woke up, we represent our ignorance with a fully uniform distribution, i.e.\n",
    "$$\n",
    "p(x_1) = \\frac{1}{\\text{width}\\cdot\\text{height}}\n",
    "$$"
   ]
  },
  {
   "cell_type": "code",
   "execution_count": 10,
   "id": "7c51d55e",
   "metadata": {},
   "outputs": [],
   "source": [
    "t = 0\n",
    "post = np.ones((height, width)) / (height * width)"
   ]
  },
  {
   "cell_type": "code",
   "execution_count": 11,
   "id": "1f5ca886",
   "metadata": {},
   "outputs": [
    {
     "data": {
      "image/png": "[encoded data removed]",
      "text/plain": [
       "<Figure size 640x480 with 1 Axes>"
      ]
     },
     "metadata": {},
     "output_type": "display_data"
    }
   ],
   "source": [
    "hinton(post)\n",
    "plt.title(\"Prior probability $p(x_1)$\");"
   ]
  },
  {
   "cell_type": "markdown",
   "id": "5100e77a",
   "metadata": {},
   "source": [
    "Let's plot the latent state $x_t$, together with the observation $y_t$. The location of $x_t$ is in white, the location of the observed creak is $y_t$. (I chose a random seed to make sure that this plot contains an observation, since there is a probability of there not being an observation)."
   ]
  },
  {
   "cell_type": "code",
   "execution_count": 12,
   "id": "c2b02269",
   "metadata": {},
   "outputs": [
    {
     "data": {
      "image/png": "[encoded data removed]",
      "text/plain": [
       "<Figure size 640x480 with 1 Axes>"
      ]
     },
     "metadata": {},
     "output_type": "display_data"
    }
   ],
   "source": [
    "plot_state(visual(xall[t, :], yall[t]))"
   ]
  },
  {
   "cell_type": "markdown",
   "id": "5d94d77d",
   "metadata": {},
   "source": [
    "Let's update the prior to include the information that the first observation gives. I.e.:\n",
    "$$\n",
    "p(x_1|y_1) = \\frac{p(y_1|x_1)p(x_1)}{p(y_1)}\\,.\n",
    "$$\n",
    "Remember that $p(y_1)$ is just the normalising constant of the numerator, i.e.:\n",
    "$$\n",
    "p(y_1) = \\sum_{x_1} p(y_1|x_1) p(x_1)\\,.\n",
    "$$"
   ]
  },
  {
   "cell_type": "code",
   "execution_count": 13,
   "id": "7d9ec3e3",
   "metadata": {},
   "outputs": [
    {
     "data": {
      "image/png": "[encoded data removed]",
      "text/plain": [
       "<Figure size 640x480 with 1 Axes>"
      ]
     },
     "metadata": {},
     "output_type": "display_data"
    }
   ],
   "source": [
    "post = post * likelihood(yall[t])\n",
    "post = post / post.sum()\n",
    "hinton(post, max_weight=1.0)\n",
    "plt.title(\"Posterior probability $p(x_1|y_1)$\");"
   ]
  },
  {
   "cell_type": "markdown",
   "id": "65842eb0",
   "metadata": {},
   "source": [
    "## Forward Prediction\n",
    "To perform filtering, we first need to compute the prediction of the state at the next time point, i.e. $p(x_{t+1}|y_{1:t})$. We can find this as:\n",
    "\\begin{align}\n",
    "p(x_{t+1}|y_{1:t}) &\\stackrel{\\text{AT}}{=} \\sum_{x_t} p(x_{t+1},x_t|y_{1:t}) \\\\\n",
    "&\\stackrel{\\text{AT}}{=} \\sum_{x_t} p(x_{t+1}|x_t,y_{1:t}) p(x_t|y_{1:t}) \\\\\n",
    "&\\stackrel{\\text{MA}}{=} \\sum_{x_t} p(x_{t+1}|x_t) p(x_t|y_{1:t})\n",
    "\\end{align}\n",
    "The final MA step, was done using the conditional independence obtained from the graphical model.\n",
    "\n",
    "Here, this equation is implemented in the `forward()` function. If we plot the result, we see that we have become more uncertain! This makes sense, as the ghost could have taken a step."
   ]
  },
  {
   "cell_type": "code",
   "execution_count": 14,
   "id": "6074e24b",
   "metadata": {
    "scrolled": false
   },
   "outputs": [
    {
     "name": "stdout",
     "output_type": "stream",
     "text": [
      "0 [5 5]\n"
     ]
    },
    {
     "data": {
      "image/png": "[encoded data removed]",
      "text/plain": [
       "<Figure size 640x480 with 1 Axes>"
      ]
     },
     "metadata": {},
     "output_type": "display_data"
    }
   ],
   "source": [
    "post = forward(post)\n",
    "hinton(post, max_weight=1.0)\n",
    "plt.title(\"p(x_2|y_1)\")\n",
    "print(t, yall[t])\n",
    "t += 1  # Move onto the next timepoint."
   ]
  },
  {
   "cell_type": "markdown",
   "id": "bf019b65",
   "metadata": {},
   "source": [
    "## Bayesian Update\n",
    "We can now update this predictive distribution to find the next posterior. Let's find the update:\n",
    "\\begin{align}\n",
    "p(x_t|y_1\\,\\dots,y_t) &\\stackrel{\\text{AT}}{=} \\frac{p(y_t,x_t,y_1,\\dots,y_{t-1})}{p(y_1,\\dots,y_{t})} \\\\\n",
    "&\\stackrel{\\text{AT}}{=} \\frac{p(y_t|x_t,y_1,\\dots,y_{t-1}) p(x_t,y_1,\\dots,y_{t-1})}{p(y_1,\\dots,y_{t})} \\\\\n",
    "&\\stackrel{\\text{AT}}{=} \\frac{p(y_t|x_t,y_1,\\dots,y_{t-1}) p(x_t|y_1,\\dots,y_{t-1})}{p(y_t|y_1,\\dots,y_{t-1})} \\\\\n",
    "&\\stackrel{\\text{MA}}{=} \\frac{p(y_t|x_t) p(x_t|y_1,\\dots,y_{t-1})}{p(y_t|y_1,\\dots,y_{t-1})}\n",
    "\\end{align}\n",
    "Again, the denomenator in this fraction can be found by normalising the numerator over all the values of $x_t$, i.e.:\n",
    "\\begin{align}\n",
    "p(y_t|y_1,\\dots,y_{t-1}) &\\stackrel{\\text{AT}}{=} \\sum_{x_t} p(y_t|x_t,y_1,\\dots,y_{t-1}) p(x_t|y_1,\\dots,y_{t-1}) \\\\\n",
    "&\\stackrel{\\text{MA}}{=} \\sum_{x_t} p(y_t|x_t) p(x_t|y_1,\\dots,y_{t-1})\n",
    "\\end{align}"
   ]
  },
  {
   "cell_type": "code",
   "execution_count": 15,
   "id": "6e0cf851",
   "metadata": {},
   "outputs": [
    {
     "data": {
      "image/png": "[encoded data removed]",
      "text/plain": [
       "<Figure size 640x480 with 1 Axes>"
      ]
     },
     "metadata": {},
     "output_type": "display_data"
    }
   ],
   "source": [
    "post = post * likelihood(yall[t])\n",
    "post = post / post.sum()\n",
    "hinton(post, max_weight=1.0)\n",
    "plt.title(\"Posterior probability $p(x_2|y_1,y_2)$\");"
   ]
  },
  {
   "cell_type": "markdown",
   "id": "5b6087f7",
   "metadata": {},
   "source": [
    "## Filtering: Repeated Updating\n",
    "Run the cell below multiple times to do filtering."
   ]
  },
  {
   "cell_type": "code",
   "execution_count": 16,
   "id": "d6e0922f",
   "metadata": {},
   "outputs": [
    {
     "name": "stdout",
     "output_type": "stream",
     "text": [
      "2 [7 5]\n"
     ]
    },
    {
     "data": {
      "image/png": "[encoded data removed]",
      "text/plain": [
       "<Figure size 640x480 with 1 Axes>"
      ]
     },
     "metadata": {},
     "output_type": "display_data"
    },
    {
     "data": {
      "image/png": "[encoded data removed]",
      "text/plain": [
       "<Figure size 640x480 with 1 Axes>"
      ]
     },
     "metadata": {},
     "output_type": "display_data"
    }
   ],
   "source": [
    "post = forward(post)\n",
    "hinton(post, max_weight=1.0)\n",
    "plt.title(\"$p(x_{\"+str(t+2)+\"}|y_{1:\"+str(t+1)+\"})$\")\n",
    "t += 1  # Move onto the next timepoint.\n",
    "print(t, yall[t])\n",
    "post = post * likelihood(yall[t])\n",
    "post = post / post.sum()\n",
    "plt.figure(); hinton(post, max_weight=1.0)\n",
    "plt.title(\"$p(x_{\"+str(t+1)+\"}|y_{1:\"+str(t+1)+\"})$\");"
   ]
  },
  {
   "cell_type": "code",
   "execution_count": null,
   "id": "29d90ea1",
   "metadata": {},
   "outputs": [],
   "source": []
  }
 ],
 "metadata": {
  "kernelspec": {
   "display_name": "Python 3 (ipykernel)",
   "language": "python",
   "name": "python3"
  },
  "language_info": {
   "codemirror_mode": {
    "name": "ipython",
    "version": 3
   },
   "file_extension": ".py",
   "mimetype": "text/x-python",
   "name": "python",
   "nbconvert_exporter": "python",
   "pygments_lexer": "ipython3",
   "version": "3.10.8"
  }
 },
 "nbformat": 4,
 "nbformat_minor": 5
}
