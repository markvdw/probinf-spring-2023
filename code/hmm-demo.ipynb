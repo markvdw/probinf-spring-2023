{
 "cells": [
  {
   "cell_type": "code",
   "execution_count": 1,
   "id": "bcef60d5",
   "metadata": {},
   "outputs": [],
   "source": [
    "import numpy as np\n",
    "import matplotlib.pyplot as plt"
   ]
  },
  {
   "cell_type": "code",
   "execution_count": 2,
   "id": "c99f3eaf",
   "metadata": {},
   "outputs": [],
   "source": [
    "# From Matplotlib documentation\n",
    "def hinton(matrix, max_weight=None, ax=None):\n",
    "    \"\"\"Draw Hinton diagram for visualizing a weight matrix.\"\"\"\n",
    "    ax = ax if ax is not None else plt.gca()\n",
    "\n",
    "    if not max_weight:\n",
    "        max_weight = 2 ** np.ceil(np.log2(np.abs(matrix).max()))\n",
    "\n",
    "    ax.patch.set_facecolor('gray')\n",
    "    ax.set_aspect('equal', 'box')\n",
    "    ax.xaxis.set_major_locator(plt.NullLocator())\n",
    "    ax.yaxis.set_major_locator(plt.NullLocator())\n",
    "\n",
    "    for (x, y), w in np.ndenumerate(matrix.T + 1e-13):\n",
    "        color = 'white' if w > 0 else 'black'\n",
    "        size = np.sqrt(abs(w) / max_weight)\n",
    "        rect = plt.Rectangle([x - size / 2, y - size / 2], size, size,\n",
    "                             facecolor=color, edgecolor=color)\n",
    "        ax.add_patch(rect)\n",
    "        \n",
    "    ax.set_xticks(np.arange(1, width) - 0.5)\n",
    "    ax.set_yticks(np.arange(1, height) - 0.5)\n",
    "    ax.set_xticklabels([])\n",
    "    ax.set_yticklabels([])\n",
    "    ax.grid()\n",
    "\n",
    "    ax.autoscale_view()\n",
    "    ax.invert_yaxis()"
   ]
  },
  {
   "cell_type": "markdown",
   "id": "e3bebb2c",
   "metadata": {},
   "source": [
    "Filtering\n",
    "\\begin{align}\n",
    "p(x_t | y_{t-1}) &= \\int p(x_{t}|x_{t-1}) p(x_{t-1}|y_{t-1}) \\mathrm d x_t \\\\\n",
    "p(x_t | y_{t}) &= \\frac{p(y_t|x_t)p(x_t | y_{t-1})}{Z}\n",
    "\\end{align}"
   ]
  },
  {
   "cell_type": "code",
   "execution_count": 3,
   "id": "dc1a917f",
   "metadata": {},
   "outputs": [],
   "source": [
    "width = 12\n",
    "height = 10\n",
    "movement = True\n",
    "obs_noise = 1\n",
    "obs_prob = 0.6"
   ]
  },
  {
   "cell_type": "code",
   "execution_count": 4,
   "id": "037b2b40",
   "metadata": {},
   "outputs": [],
   "source": [
    "def sample_transition(x):\n",
    "    if movement:\n",
    "        delta = np.array([np.random.randint(-1, 2), np.random.randint(-1, 2)])\n",
    "        if np.abs(delta).sum() == 2:\n",
    "            delta = np.array([0, 0])  # So 5/9 probability of staying in the same spot\n",
    "        x = (x + delta) % np.array([height, width])\n",
    "    return x\n",
    "\n",
    "def sample_observation(x):\n",
    "    if np.random.rand() < obs_prob:\n",
    "        delta = np.array([np.random.randint(-obs_noise, obs_noise+1), np.random.randint(-obs_noise, obs_noise+1)])\n",
    "        x = (x + delta) % np.array([height, width])\n",
    "        return x\n",
    "    else:\n",
    "        return None"
   ]
  },
  {
   "cell_type": "code",
   "execution_count": 5,
   "id": "f90d6e3c",
   "metadata": {},
   "outputs": [],
   "source": [
    "xall = []\n",
    "yall = []\n",
    "# x = np.array([np.random.randint(0, height), np.random.randint(0, width)])\n",
    "x = np.array([height // 2, width // 2])\n",
    "for t in range(10000):\n",
    "    x = sample_transition(x)\n",
    "    xall.append(x)\n",
    "    yall.append(sample_observation(x) if t > 0 else None)\n",
    "xall = np.vstack(xall)"
   ]
  },
  {
   "cell_type": "code",
   "execution_count": 6,
   "id": "6df3d575",
   "metadata": {},
   "outputs": [],
   "source": [
    "def visual(x, y=None):\n",
    "    img = np.zeros((height, width))\n",
    "    img[x[0], x[1]] = 1\n",
    "    if y is not None:\n",
    "        img[y[0], y[1]] = 0.5\n",
    "    return img\n",
    "\n",
    "def plot_state(img):\n",
    "    fig, ax = plt.subplots()\n",
    "    ims = ax.imshow(img, vmin=0, cmap='Greys_r')\n",
    "    ax.set_xticks(np.arange(1, width) - 0.5)\n",
    "    ax.set_yticks(np.arange(1, height) - 0.5)\n",
    "    ax.set_xticklabels([])\n",
    "    ax.set_yticklabels([])\n",
    "    ax.grid()\n",
    "    \n",
    "def transition_prob(x):\n",
    "    if movement:\n",
    "        img = visual(x)\n",
    "        for dx in [-1, 0, 1]:\n",
    "            for dy in [-1, 0, 1]:\n",
    "                if dx == 0 or dy == 0:\n",
    "                    img[(x[0] + dy) % height, (x[1] + dx) % width] = 1 / 9\n",
    "        img[x[0], x[1]] = 5/9\n",
    "        img = img / np.sum(img)  # Normalise probability\n",
    "    return img\n",
    "\n",
    "def observe_prob(x):\n",
    "    img = visual(x)\n",
    "    for dx in np.arange(-obs_noise, obs_noise+1):\n",
    "        for dy in np.arange(-obs_noise, obs_noise+1):\n",
    "            img[(x[0] + dy) % height, (x[1] + dx) % width] = 1\n",
    "    img = img / np.sum(img)  # Normalise probability\n",
    "    return img\n",
    "\n",
    "def likelihood(y):\n",
    "    if y is not None:\n",
    "        return observe_prob(y)\n",
    "    else:\n",
    "        return 1.0\n",
    "\n",
    "def forward(p_xt):\n",
    "    px_tp1 = np.zeros((height, width))\n",
    "    for (y, x), w in np.ndenumerate(p_xt):\n",
    "        px_tp1 = px_tp1 + transition_prob([y, x]) * w\n",
    "    return px_tp1"
   ]
  },
  {
   "cell_type": "code",
   "execution_count": 7,
   "id": "762d2143",
   "metadata": {},
   "outputs": [
    {
     "data": {
      "image/png": "[encoded data removed]",
      "text/plain": [
       "<Figure size 640x480 with 1 Axes>"
      ]
     },
     "metadata": {},
     "output_type": "display_data"
    }
   ],
   "source": [
    "hinton(transition_prob([height // 2, width // 2]))"
   ]
  },
  {
   "cell_type": "code",
   "execution_count": 8,
   "id": "3ef81800",
   "metadata": {},
   "outputs": [],
   "source": [
    "t = 0\n",
    "post = np.ones((height, width)) / (height * width)"
   ]
  },
  {
   "cell_type": "code",
   "execution_count": 11,
   "id": "cb18dfef",
   "metadata": {
    "scrolled": false
   },
   "outputs": [
    {
     "name": "stdout",
     "output_type": "stream",
     "text": [
      "1 [5 4]\n"
     ]
    },
    {
     "data": {
      "text/plain": [
       "<Figure size 640x480 with 0 Axes>"
      ]
     },
     "metadata": {},
     "output_type": "display_data"
    },
    {
     "data": {
      "image/png": "[encoded data removed]",
      "text/plain": [
       "<Figure size 640x480 with 1 Axes>"
      ]
     },
     "metadata": {},
     "output_type": "display_data"
    },
    {
     "data": {
      "image/png": "[encoded data removed]",
      "text/plain": [
       "<Figure size 640x480 with 1 Axes>"
      ]
     },
     "metadata": {},
     "output_type": "display_data"
    }
   ],
   "source": [
    "plt.figure(); plot_state(visual(xall[t, :], yall[t]))\n",
    "# plt.figure(); hinton(transition_prob(xall[t, :]) + 1e-6, max_weight=1.0)\n",
    "# plt.figure(); hinton(observe_prob(xall[t, :]) + 1e-6, max_weight=1.0)\n",
    "post = post * likelihood(yall[t])\n",
    "post = post / post.sum()\n",
    "plt.figure(); hinton(post, max_weight=1.0)\n",
    "post = forward(post)\n",
    "# plt.figure(); hinton(post, max_weight=1.0)\n",
    "print(t, yall[t])\n",
    "t += 1"
   ]
  },
  {
   "cell_type": "code",
   "execution_count": 12,
   "id": "bb590cc7",
   "metadata": {},
   "outputs": [
    {
     "data": {
      "image/png": "[encoded data removed]",
      "text/plain": [
       "<Figure size 640x480 with 1 Axes>"
      ]
     },
     "metadata": {},
     "output_type": "display_data"
    }
   ],
   "source": [
    "plt.figure(); hinton(post, max_weight=1.0)"
   ]
  },
  {
   "cell_type": "code",
   "execution_count": null,
   "id": "354d758c",
   "metadata": {},
   "outputs": [],
   "source": []
  }
 ],
 "metadata": {
  "kernelspec": {
   "display_name": "Python 3 (ipykernel)",
   "language": "python",
   "name": "python3"
  },
  "language_info": {
   "codemirror_mode": {
    "name": "ipython",
    "version": 3
   },
   "file_extension": ".py",
   "mimetype": "text/x-python",
   "name": "python",
   "nbconvert_exporter": "python",
   "pygments_lexer": "ipython3",
   "version": "3.10.8"
  }
 },
 "nbformat": 4,
 "nbformat_minor": 5
}
